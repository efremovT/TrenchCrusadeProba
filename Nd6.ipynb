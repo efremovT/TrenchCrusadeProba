{
 "cells": [
  {
   "cell_type": "markdown",
   "metadata": {},
   "source": [
    "# Probability distribution for 3d6 pick highest"
   ]
  },
  {
   "cell_type": "markdown",
   "metadata": {},
   "source": [
    "## Generate the number of dice needed"
   ]
  },
  {
   "cell_type": "code",
   "execution_count": 115,
   "metadata": {},
   "outputs": [
    {
     "name": "stdout",
     "output_type": "stream",
     "text": [
      "[6 5 5]\n",
      "(1000000, 3)\n"
     ]
    }
   ],
   "source": [
    "import numpy as np \n",
    "import matplotlib.pyplot as plt\n",
    "import scipy as sp\n",
    "\n",
    "\n",
    "def GenDice(NFace =6, NDice=2, Sample=int(1e6)):\n",
    "    rng = np.random.default_rng()\n",
    "    \n",
    "    dice = rng.integers(low=1,high=NFace+1,size=Sample)\n",
    "\n",
    "    for i in range(NDice-1):\n",
    "        dicetemp = rng.integers(low=1,high=NFace+1,size=Sample)\n",
    "        dice = np.vstack((dice,dicetemp))\n",
    "    return dice.T\n",
    "print(GenDice(6,3,int(1e6))[1,:])\n",
    "print(GenDice(6,3).shape)"
   ]
  },
  {
   "cell_type": "code",
   "execution_count": 124,
   "metadata": {},
   "outputs": [],
   "source": [
    "import heapq\n",
    "def TwoHighest(dice) :\n",
    "    SampleSize = dice.shape[0]\n",
    "    res = np.ones(SampleSize)\n",
    "    \n",
    "    for i in range(SampleSize):\n",
    "        temp = heapq.nlargest(2,dice[i,:])\n",
    "        res[i] =  temp[0] + temp[1]\n",
    "    return res\n",
    "def TwoLowest(dice) :\n",
    "    Sample = dice.shape[1]\n",
    "    res = np.ones(Sample)\n",
    "\n",
    "\n",
    "    for i in range(Sample):\n",
    "        temp = heapq.nlowest(2,dice[i,:])\n",
    "        res[i] =  temp[0] + temp[1]\n",
    "\n",
    "    return res"
   ]
  },
  {
   "cell_type": "code",
   "execution_count": 125,
   "metadata": {},
   "outputs": [],
   "source": [
    "ThreeDice6 = GenDice(6,3,int(1e5))\n",
    "Proba = TwoHighest(ThreeDice6)"
   ]
  },
  {
   "cell_type": "code",
   "execution_count": 126,
   "metadata": {},
   "outputs": [
    {
     "data": {
      "text/plain": [
       "(array([0.00462, 0.01369, 0.0318 , 0.05577, 0.08753, 0.12482, 0.15737,\n",
       "        0.16914, 0.15718, 0.1241 , 0.07398]),\n",
       " array([ 2.,  3.,  4.,  5.,  6.,  7.,  8.,  9., 10., 11., 12., 13.]),\n",
       " <BarContainer object of 11 artists>)"
      ]
     },
     "execution_count": 126,
     "metadata": {},
     "output_type": "execute_result"
    },
    {
     "data": {
      "image/png": "[encoded data removed]",
      "text/plain": [
       "<Figure size 640x480 with 1 Axes>"
      ]
     },
     "metadata": {},
     "output_type": "display_data"
    }
   ],
   "source": [
    "plt.figure()\n",
    "plt.hist(Proba,bins=11,range=(2,13),density=True,align=\"left\")"
   ]
  },
  {
   "cell_type": "code",
   "execution_count": null,
   "metadata": {},
   "outputs": [],
   "source": []
  }
 ],
 "metadata": {
  "kernelspec": {
   "display_name": ".venv",
   "language": "python",
   "name": "python3"
  },
  "language_info": {
   "codemirror_mode": {
    "name": "ipython",
    "version": 3
   },
   "file_extension": ".py",
   "mimetype": "text/x-python",
   "name": "python",
   "nbconvert_exporter": "python",
   "pygments_lexer": "ipython3",
   "version": "3.12.3"
  }
 },
 "nbformat": 4,
 "nbformat_minor": 2
}
